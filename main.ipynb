{
 "cells": [
  {
   "cell_type": "code",
   "execution_count": 1,
   "metadata": {},
   "outputs": [
    {
     "name": "stdout",
     "output_type": "stream",
     "text": [
      "Read 10 rows\n",
      "OK rows: 0010, Rejected rows: 0000\n"
     ]
    }
   ],
   "source": [
    "# Read file into json rows\n",
    "\n",
    "import json\n",
    "\n",
    "def run(file_name:str, print_lines:bool=False) -> None:\n",
    "    \"\"\"\n",
    "    From JSON row file read each row\n",
    "\n",
    "    Args:\n",
    "        file_name (str): file path to read\n",
    "        print_lines (bool): print lines from file to console.\n",
    "    \"\"\"\n",
    "    # track the row count\n",
    "    line_num = 1        # Current line number\n",
    "    ok_count = 0        # Rows that didn't return an error\n",
    "    reject_count = 0    # Rows that did return an error\n",
    "    with open(file_name, \"r\") as json_file:\n",
    "        for line in json_file:\n",
    "            try:\n",
    "                # Read lines into a dict\n",
    "                row = json.loads(line.strip())\n",
    "                # Print lines\n",
    "                if print_lines:\n",
    "                    print(f\"[{line_num:04d} [OK]: {row}\")\n",
    "                # Line count update\n",
    "                ok_count += 1\n",
    "            except Exception as err:\n",
    "                # print row with error\n",
    "                print(f\"[{line_num:04d}][ERROR:] {str(err)}, [DATA]: {row}\")\n",
    "                reject_count += 1\n",
    "            finally:\n",
    "                # Update line count regardless if exception or not\n",
    "                line_num += 1\n",
    "        # Print line count summary\n",
    "    print(f\"Read {line_num - 1} rows\")\n",
    "    print(f\"OK rows: {ok_count:04d}, Rejected rows: {reject_count:04d}\") \n",
    "\n",
    "# Call the function for a test\n",
    "file_path = \"./data/profiles2.json\"\n",
    "run(file_path, print_lines=False)"
   ]
  },
  {
   "cell_type": "code",
   "execution_count": 2,
   "metadata": {},
   "outputs": [],
   "source": [
    "# add meta data columns\n",
    "\n",
    "from datetime import datetime\n",
    "import shortuuid\n",
    "\n",
    "# get a unique ID for this ETL batch (script)\n",
    "BATCH_ID = shortuuid.uuid()\n",
    "\n",
    "def add_metadata(row:dict) -> None:\n",
    "    \"\"\"\n",
    "    Adds ETL metadata columns to a row. Follwing metadata columns \n",
    "    are added:\n",
    "        - modified_timestamp: current datetime\n",
    "        - batch_id: unique ETL batch_id\n",
    "        - tags: a key/value dict to store various data tags\n",
    "        - tags.errors: a list of error message encountered while processing this row\n",
    "\n",
    "    Args:\n",
    "        row (dict): data row\n",
    "    \"\"\"\n",
    "    global BATCH_ID\n",
    "    now_utc = datetime.utcnow()\n",
    "    # add timestamps for when we have processed this row\n",
    "    row[\"modified_timestamp\"] = now_utc\n",
    "    # add the ETL (script) batch_id\n",
    "    row[\"batch_id\"] = BATCH_ID\n",
    "    # a series of additional processing tags \n",
    "    row[\"tags\"] = {\n",
    "        # other tags can go here, for example:\n",
    "        \"security_level\": \"high\",\n",
    "        \"allow_user_groups\": [\"admin\",]\n",
    "    }"
   ]
  }
 ],
 "metadata": {
  "kernelspec": {
   "display_name": "Python 3.7.15 ('venv': venv)",
   "language": "python",
   "name": "python3"
  },
  "language_info": {
   "codemirror_mode": {
    "name": "ipython",
    "version": 3
   },
   "file_extension": ".py",
   "mimetype": "text/x-python",
   "name": "python",
   "nbconvert_exporter": "python",
   "pygments_lexer": "ipython3",
   "version": "3.7.15"
  },
  "orig_nbformat": 4,
  "vscode": {
   "interpreter": {
    "hash": "4ebf270603097c86092d999674f84c728027fa67fa1e770293fb80ab8ba229c8"
   }
  }
 },
 "nbformat": 4,
 "nbformat_minor": 2
}
